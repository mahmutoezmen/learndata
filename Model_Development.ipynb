{
  "nbformat": 4,
  "nbformat_minor": 0,
  "metadata": {
    "colab": {
      "name": "Model Development.ipynb",
      "provenance": [],
      "collapsed_sections": [],
      "authorship_tag": "ABX9TyOspHuoGWYphu+aVbwdIMSD"
    },
    "kernelspec": {
      "name": "python3",
      "display_name": "Python 3"
    }
  },
  "cells": [
    {
      "cell_type": "markdown",
      "metadata": {
        "id": "Q3VujQaXTwTK",
        "colab_type": "text"
      },
      "source": [
        "# Model Development"
      ]
    },
    {
      "cell_type": "code",
      "metadata": {
        "id": "LM9NR_mQTqWR",
        "colab_type": "code",
        "colab": {}
      },
      "source": [
        "import pandas as pd\n",
        "import numpy as np\n",
        "import matplotlib.pyplot as plt"
      ],
      "execution_count": 0,
      "outputs": []
    },
    {
      "cell_type": "markdown",
      "metadata": {
        "id": "5TfzTkAeT89g",
        "colab_type": "text"
      },
      "source": [
        "load data and store in dataframe df:"
      ]
    },
    {
      "cell_type": "code",
      "metadata": {
        "id": "U9qwwbeDT6ed",
        "colab_type": "code",
        "colab": {}
      },
      "source": [
        "path = 'https://s3-api.us-geo.objectstorage.softlayer.net/cf-courses-data/CognitiveClass/DA0101EN/automobileEDA.csv'\n",
        "df = pd.read_csv(path)\n",
        "df.head()"
      ],
      "execution_count": 0,
      "outputs": []
    },
    {
      "cell_type": "markdown",
      "metadata": {
        "id": "x4zreMFFUOdV",
        "colab_type": "text"
      },
      "source": [
        "### 1. Linear Regression and Multiple Linear Regression\n",
        "\n",
        "#### Linear Regression\n",
        "One example of a Data Model that we will be using is\n",
        "\n",
        "Simple Linear Regression. \n",
        "Simple Linear Regression is a method to help us understand the relationship between two variables:\n",
        "\n",
        "The predictor/independent variable (X)\n",
        "The response/dependent variable (that we want to predict)(Y)\n",
        "The result of Linear Regression is a linear function that predicts the response (dependent) variable as a function of the predictor (independent) variable.\n",
        "\n",
        "𝑌:𝑅𝑒𝑠𝑝𝑜𝑛𝑠𝑒 𝑉𝑎𝑟𝑖𝑎𝑏𝑙𝑒 \n",
        "\n",
        "𝑋:𝑃𝑟𝑒𝑑𝑖𝑐𝑡𝑜𝑟 𝑉𝑎𝑟𝑖𝑎𝑏𝑙𝑒𝑠\n",
        "\n",
        "Linear function:\n",
        "𝑌ℎ𝑎𝑡=𝑎+𝑏𝑋\n",
        " \n",
        "\n",
        "a refers to the intercept of the regression line0, in other words: the value of Y when X is 0\n",
        "b refers to the slope of the regression line, in other words: the value with which Y changes when X increases by 1 unit\n",
        "\n",
        "#### Lets load the modules for linear regression"
      ]
    },
    {
      "cell_type": "code",
      "metadata": {
        "id": "fSs_oAvsUIZQ",
        "colab_type": "code",
        "colab": {}
      },
      "source": [
        "from sklearn.linear_model import LinearRegression"
      ],
      "execution_count": 0,
      "outputs": []
    },
    {
      "cell_type": "markdown",
      "metadata": {
        "id": "HVer86_eU63m",
        "colab_type": "text"
      },
      "source": [
        "Create the linear regression object"
      ]
    },
    {
      "cell_type": "code",
      "metadata": {
        "id": "0pfToUjLVKa5",
        "colab_type": "code",
        "colab": {}
      },
      "source": [
        "lm = LinearRegression()\n",
        "lm"
      ],
      "execution_count": 0,
      "outputs": []
    },
    {
      "cell_type": "markdown",
      "metadata": {
        "id": "7rMVNySxVmDx",
        "colab_type": "text"
      },
      "source": [
        "#### How could Highway-mpg help us predict car price?\n",
        "\n",
        "For this example, we want to look at how highway-mpg can help us predict car price. Using simple linear regression, we will create a linear function with \"highway-mpg\" as the predictor variable and the \"price\" as the response variable."
      ]
    },
    {
      "cell_type": "code",
      "metadata": {
        "id": "hDrspjodVOpX",
        "colab_type": "code",
        "colab": {}
      },
      "source": [
        "X = df[[\"highway-mpg\"]]\n",
        "Y=df[['price']]"
      ],
      "execution_count": 0,
      "outputs": []
    },
    {
      "cell_type": "markdown",
      "metadata": {
        "id": "rA3910U4V2Sr",
        "colab_type": "text"
      },
      "source": [
        "Fit this linear model using highway-mpg"
      ]
    },
    {
      "cell_type": "code",
      "metadata": {
        "id": "HcsSIiRJV1LZ",
        "colab_type": "code",
        "colab": {}
      },
      "source": [
        "lm.fit(X,Y)"
      ],
      "execution_count": 0,
      "outputs": []
    },
    {
      "cell_type": "markdown",
      "metadata": {
        "id": "xm1D6qcWWCSX",
        "colab_type": "text"
      },
      "source": [
        "We can output a prediction"
      ]
    },
    {
      "cell_type": "code",
      "metadata": {
        "id": "eFsSHMK0V929",
        "colab_type": "code",
        "colab": {}
      },
      "source": [
        "Yhat = lm.predict(X)\n",
        "Yhat[0:5]"
      ],
      "execution_count": 0,
      "outputs": []
    },
    {
      "cell_type": "markdown",
      "metadata": {
        "id": "dwH5DWGjWOVi",
        "colab_type": "text"
      },
      "source": [
        "***What is the value of the intercept (a)?***"
      ]
    },
    {
      "cell_type": "code",
      "metadata": {
        "id": "W5g6RDvWWMca",
        "colab_type": "code",
        "colab": {
          "base_uri": "https://localhost:8080/",
          "height": 34
        },
        "outputId": "cff610ab-d4e2-41dd-cce8-2f7eb69b93dd"
      },
      "source": [
        "lm.intercept_"
      ],
      "execution_count": 12,
      "outputs": [
        {
          "output_type": "execute_result",
          "data": {
            "text/plain": [
              "array([38423.30585816])"
            ]
          },
          "metadata": {
            "tags": []
          },
          "execution_count": 12
        }
      ]
    },
    {
      "cell_type": "markdown",
      "metadata": {
        "id": "AcUDlvPsWbg-",
        "colab_type": "text"
      },
      "source": [
        "***What is the value of the slope (b)?***"
      ]
    },
    {
      "cell_type": "code",
      "metadata": {
        "id": "MMx2KMknWWUR",
        "colab_type": "code",
        "colab": {}
      },
      "source": [
        "lm.coef_"
      ],
      "execution_count": 0,
      "outputs": []
    },
    {
      "cell_type": "markdown",
      "metadata": {
        "id": "sZl9qw14WkoM",
        "colab_type": "text"
      },
      "source": [
        "What is the final estimated linear model we get?\n",
        "As we saw above, we should get a final linear model with the structure:\n",
        "\n",
        "𝑌ℎ𝑎𝑡=𝑎+𝑏𝑋\n",
        " \n",
        "Plugging in the actual values we get:\n",
        "\n",
        "price = 38423.31 - 821.73 x highway-mpg(X value)"
      ]
    },
    {
      "cell_type": "markdown",
      "metadata": {
        "id": "yIEeZiB3YFb2",
        "colab_type": "text"
      },
      "source": [
        "### Multiple Linear Regression\n",
        "What if we want to predict car price using more than one variable?\n",
        "\n",
        "If we want to use more variables in our model to predict car price, we can use Multiple Linear Regression. Multiple Linear Regression is very similar to Simple Linear Regression, but this method is used to explain the relationship between one continuous response (dependent) variable and two or more predictor (independent) variables. Most of the real-world regression models involve multiple predictors. We will illustrate the structure by using four predictor variables, but these results can generalize to any integer:\n",
        "\n",
        "$$\n",
        "Y: Response \\ Variable\\\\\n",
        "X_1 :Predictor\\ Variable \\ 1\\\\\n",
        "X_2: Predictor\\ Variable \\ 2\\\\\n",
        "X_3: Predictor\\ Variable \\ 3\\\\\n",
        "X_4: Predictor\\ Variable \\ 4\\\\\n",
        "$$\n",
        "\n",
        "$$\n",
        "a: intercept\\\\\n",
        "b_1 :coefficients \\ of\\ Variable \\ 1\\\\\n",
        "b_2: coefficients \\ of\\ Variable \\ 2\\\\\n",
        "b_3: coefficients \\ of\\ Variable \\ 3\\\\\n",
        "b_4: coefficients \\ of\\ Variable \\ 4\\\\\n",
        "$$\n",
        "\n",
        "The equation is given by\n",
        "\n",
        "$$\n",
        "Yhat = a + b_1 X_1 + b_2 X_2 + b_3 X_3 + b_4 X_4\n",
        "$$\n",
        "\n",
        "From the previous section we know that other good predictors of price could be:\n",
        "\n",
        "Horsepower\n",
        "Curb-weight\n",
        "Engine-size\n",
        "Highway-mpg\n",
        "Let's develop a model using these variables as the predictor variables."
      ]
    },
    {
      "cell_type": "code",
      "metadata": {
        "id": "Ad063J-2WfNA",
        "colab_type": "code",
        "colab": {}
      },
      "source": [
        "Z = df[['horsepower','curb-weight','engine-size','highway-mpg']]"
      ],
      "execution_count": 0,
      "outputs": []
    },
    {
      "cell_type": "markdown",
      "metadata": {
        "id": "nhZ6bFE3Yq-x",
        "colab_type": "text"
      },
      "source": [
        "Fir the linear model using those four variables"
      ]
    },
    {
      "cell_type": "code",
      "metadata": {
        "id": "3jYslH6CYqLi",
        "colab_type": "code",
        "colab": {}
      },
      "source": [
        "lm.fit(Z, df['price'])"
      ],
      "execution_count": 0,
      "outputs": []
    },
    {
      "cell_type": "markdown",
      "metadata": {
        "id": "zpTEsbZ9Y7kE",
        "colab_type": "text"
      },
      "source": [
        "What is the value of the intercept a?"
      ]
    },
    {
      "cell_type": "code",
      "metadata": {
        "id": "noZzEG0aY6V7",
        "colab_type": "code",
        "colab": {}
      },
      "source": [
        "lm.intercept_"
      ],
      "execution_count": 0,
      "outputs": []
    },
    {
      "cell_type": "markdown",
      "metadata": {
        "id": "GRMNW2jVZDr5",
        "colab_type": "text"
      },
      "source": [
        "What are the values of the coefficients (b1, b2, b3, b4)?"
      ]
    },
    {
      "cell_type": "code",
      "metadata": {
        "id": "ahSCh_Y6ZAKK",
        "colab_type": "code",
        "colab": {}
      },
      "source": [
        "lm.coef_"
      ],
      "execution_count": 0,
      "outputs": []
    },
    {
      "cell_type": "markdown",
      "metadata": {
        "id": "gN5Wjp0WZDAs",
        "colab_type": "text"
      },
      "source": [
        "What is the final estimated linear model that we get?\n",
        "\n",
        "As we saw above, we should get a final linear function with the structure:\n",
        "\n",
        "𝑌ℎ𝑎𝑡=𝑎+𝑏1𝑋1+𝑏2𝑋2+𝑏3𝑋3+𝑏4𝑋4\n",
        "\n",
        " \n",
        "\n",
        "What is the linear function we get in this example?\n",
        "\n",
        "Price = -15678.742628061467 + 52.65851272 x horsepower + 4.69878948 x curb-weight + 81.95906216 x engine-size + 33.58258185 x highway-mpg"
      ]
    },
    {
      "cell_type": "markdown",
      "metadata": {
        "id": "DnJNXDmgZwxy",
        "colab_type": "text"
      },
      "source": [
        "### 2) Model Evaluation using Visualization\n",
        "Now that we've developed some models, how do we evaluate our models and how do we choose the best one? One way to do this is by using visualization.\n",
        "\n",
        "import the visualization package: seaborn"
      ]
    },
    {
      "cell_type": "code",
      "metadata": {
        "id": "FJ5viaNtZB8U",
        "colab_type": "code",
        "colab": {}
      },
      "source": [
        "import seaborn as sns\n",
        "%matplotlib inline"
      ],
      "execution_count": 0,
      "outputs": []
    },
    {
      "cell_type": "markdown",
      "metadata": {
        "id": "gtVxUAtvZ4Ys",
        "colab_type": "text"
      },
      "source": [
        "### Regression Plot\n",
        "When it comes to simple linear regression, an excellent way to visualize the fit of our model is by using regression plots.\n",
        "\n",
        "This plot will show a combination of a scattered data points (a scatter plot), as well as the fitted linear regression line going through the data. This will give us a reasonable estimate of the relationship between the two variables, the strength of the correlation, as well as the direction (positive or negative correlation).\n",
        "\n",
        "Let's visualize Horsepower as potential predictor variable of price:"
      ]
    },
    {
      "cell_type": "code",
      "metadata": {
        "id": "mj2z8c2pZ3nr",
        "colab_type": "code",
        "colab": {}
      },
      "source": [
        "width = 12\n",
        "height = 10\n",
        "plt.figure(figsize=(width,height))\n",
        "sns.regplot(x='highway-mpg',y='price', data = df)\n",
        "plt.ylim(0,)"
      ],
      "execution_count": 0,
      "outputs": []
    },
    {
      "cell_type": "markdown",
      "metadata": {
        "id": "pMYuAYhYaU0i",
        "colab_type": "text"
      },
      "source": [
        "We can see from this plot that price is negatively correlated to highway-mpg, since the regression slope is negative. One thing to keep in mind when looking at a regression plot is to pay attention to how scattered the data points are around the regression line. This will give you a good indication of the variance of the data, and whether a linear model would be the best fit or not. If the data is too far off from the line, this linear model might not be the best model for this data. Let's compare this plot to the regression plot of \"peak-rpm\"."
      ]
    },
    {
      "cell_type": "code",
      "metadata": {
        "id": "7cdeuOm5aTYY",
        "colab_type": "code",
        "colab": {}
      },
      "source": [
        "plt.figure(figsize=(width, height))\n",
        "sns.regplot(x='peak-rpm',y='price',data=df)\n",
        "plt.ylim(0,)"
      ],
      "execution_count": 0,
      "outputs": []
    },
    {
      "cell_type": "markdown",
      "metadata": {
        "id": "KKdefI6havL_",
        "colab_type": "text"
      },
      "source": [
        "Comparing the regression plot of \"peak-rpm\" and \"highway-mpg\" we see that the points for \"highway-mpg\" are much closer to the generated line and on the average decrease. The points for \"peak-rpm\" have more spread around the predicted line, and it is much harder to determine if the points are decreasing or increasing as the \"highway-mpg\" increases.\n"
      ]
    },
    {
      "cell_type": "markdown",
      "metadata": {
        "id": "ydyh_A4TbZAF",
        "colab_type": "text"
      },
      "source": [
        "### Residual Plot\n",
        "\n",
        "A good way to visualize the variance of the data is to use a residual plot.\n",
        "\n",
        "What is a residual?\n",
        "\n",
        "The difference between the observed value (y) and the predicted value (Yhat) is called the residual (e). When we look at a regression plot, the residual is the distance from the data point to the fitted regression line.\n",
        "\n",
        "So what is a residual plot?\n",
        "\n",
        "A residual plot is a graph that shows the residuals on the vertical y-axis and the independent variable on the horizontal x-axis.\n",
        "\n",
        "What do we pay attention to when looking at a residual plot?\n",
        "\n",
        "We look at the spread of the residuals:\n",
        "\n",
        "- If the points in a residual plot are randomly spread out around the x-axis, then a linear model is appropriate for the data. Why is that? Randomly spread out residuals means that the variance is constant, and thus the linear model is a good fit for this data."
      ]
    },
    {
      "cell_type": "code",
      "metadata": {
        "id": "9nFBuPn8alw8",
        "colab_type": "code",
        "colab": {}
      },
      "source": [
        "width = 12\n",
        "height = 10\n",
        "plt.figure(figsize=(width, height))\n",
        "sns.residplot(df['highway-mpg'], df['price'])\n",
        "plt.show()"
      ],
      "execution_count": 0,
      "outputs": []
    },
    {
      "cell_type": "markdown",
      "metadata": {
        "id": "CZCYucUWbV38",
        "colab_type": "text"
      },
      "source": [
        "What is this plot telling us?\n",
        "\n",
        "We can see from this residual plot that the residuals are not randomly spread around the x-axis, which leads us to believe that maybe a non-linear model is more appropriate for this data.\n",
        "\n",
        "### Multiple Linear Regression\n",
        "How do we visualize a model for Multiple Linear Regression? This gets a bit more complicated because you can't visualize it with regression or residual plot.\n",
        "\n",
        "One way to look at the fit of the model is by looking at the distribution plot: We can look at the distribution of the fitted values that result from the model and compare it to the distribution of the actual values.\n",
        "\n",
        "First lets make a prediction"
      ]
    },
    {
      "cell_type": "code",
      "metadata": {
        "id": "gMk-uFh9bq5j",
        "colab_type": "code",
        "colab": {}
      },
      "source": [
        "Y_hat = lm.predict(Z)\n"
      ],
      "execution_count": 0,
      "outputs": []
    },
    {
      "cell_type": "code",
      "metadata": {
        "id": "F4wog_9RbyK2",
        "colab_type": "code",
        "colab": {}
      },
      "source": [
        "plt.figure(figsize=(width, height))\n",
        "\n",
        "\n",
        "ax1 = sns.distplot(df['price'], hist=False, color=\"r\", label=\"Actual Value\")\n",
        "sns.distplot(Yhat, hist=False, color=\"b\", label=\"Fitted Values\" , ax=ax1)\n",
        "\n",
        "\n",
        "plt.title('Actual vs Fitted Values for Price')\n",
        "plt.xlabel('Price (in dollars)')\n",
        "plt.ylabel('Proportion of Cars')\n",
        "\n",
        "plt.show()\n",
        "plt.close()"
      ],
      "execution_count": 0,
      "outputs": []
    },
    {
      "cell_type": "markdown",
      "metadata": {
        "id": "n6I9eGYZb_bO",
        "colab_type": "text"
      },
      "source": [
        "We can see that the fitted values are reasonably close to the actual values, since the two distributions overlap a bit. However, there is definitely some room for improvement.\n",
        "\n",
        "## Part 3: Polynomial Regression and Pipelines\n",
        "\n",
        "Polynomial regression is a particular case of the general linear regression model or multiple linear regression models.\n",
        "\n",
        "We get non-linear relationships by squaring or setting higher-order terms of the predictor variables.\n",
        "\n",
        "There are different orders of polynomial regression:\n",
        "\n",
        "Quadratic - 2nd order\n",
        "𝑌ℎ𝑎𝑡=𝑎+𝑏1𝑋2+𝑏2𝑋2\n",
        "\n",
        " \n",
        "Cubic - 3rd order\n",
        "𝑌ℎ𝑎𝑡=𝑎+𝑏1𝑋2+𝑏2𝑋2+𝑏3𝑋3\n",
        "\n",
        "Higher order:\n",
        "𝑌=𝑎+𝑏1𝑋2+𝑏2𝑋2+𝑏3𝑋3....\n",
        "\n",
        "We saw earlier that a linear model did not provide the best fit while using highway-mpg as the predictor variable. Let's see if we can try fitting a polynomial model to the data instead.\n",
        "\n",
        "We will use the following function to plot the data:"
      ]
    },
    {
      "cell_type": "code",
      "metadata": {
        "id": "vlAoA8Ebb0SF",
        "colab_type": "code",
        "colab": {}
      },
      "source": [
        "def PlotPolly(model, independent_variable, dependent_variabble, Name):\n",
        "    x_new = np.linspace(15, 55, 100)\n",
        "    y_new = model(x_new)\n",
        "\n",
        "    plt.plot(independent_variable, dependent_variabble, '.', x_new, y_new, '-')\n",
        "    plt.title('Polynomial Fit with Matplotlib for Price ~ Length')\n",
        "    ax = plt.gca()\n",
        "    ax.set_facecolor((0.898, 0.898, 0.898))\n",
        "    fig = plt.gcf()\n",
        "    plt.xlabel(Name)\n",
        "    plt.ylabel('Price of Cars')\n",
        "\n",
        "    plt.show()\n",
        "    plt.close()"
      ],
      "execution_count": 0,
      "outputs": []
    },
    {
      "cell_type": "markdown",
      "metadata": {
        "id": "axuiCiVJcXZP",
        "colab_type": "text"
      },
      "source": [
        "Let's get the variables."
      ]
    },
    {
      "cell_type": "code",
      "metadata": {
        "id": "PRiRyfaqcWyg",
        "colab_type": "code",
        "colab": {}
      },
      "source": [
        "x = df['highway-mpg']\n",
        "y = df['price']"
      ],
      "execution_count": 0,
      "outputs": []
    },
    {
      "cell_type": "markdown",
      "metadata": {
        "id": "1hN3edsGcbkP",
        "colab_type": "text"
      },
      "source": [
        "Let's fit the polynomial using the function polyfit, then use the function poly1d to display the polynomial function."
      ]
    },
    {
      "cell_type": "code",
      "metadata": {
        "id": "hbhXlR1lcdYv",
        "colab_type": "code",
        "colab": {}
      },
      "source": [
        "# Here we use a polynomial of the 3rd order (cubic) \n",
        "f = np.polyfit(x, y, 3)\n",
        "p = np.poly1d(f)\n",
        "print(p)"
      ],
      "execution_count": 0,
      "outputs": []
    },
    {
      "cell_type": "code",
      "metadata": {
        "id": "7lu6012ycgts",
        "colab_type": "code",
        "colab": {}
      },
      "source": [
        "# Let's plot the function"
      ],
      "execution_count": 0,
      "outputs": []
    },
    {
      "cell_type": "code",
      "metadata": {
        "id": "stpF5ZSUclCq",
        "colab_type": "code",
        "colab": {}
      },
      "source": [
        "PlotPolly(p, x, y, 'highway-mpg')"
      ],
      "execution_count": 0,
      "outputs": []
    },
    {
      "cell_type": "code",
      "metadata": {
        "id": "ViaJXTMqcmjj",
        "colab_type": "code",
        "colab": {}
      },
      "source": [
        "np.polyfit(x, y, 3)"
      ],
      "execution_count": 0,
      "outputs": []
    },
    {
      "cell_type": "markdown",
      "metadata": {
        "id": "H5ftoUGndLwf",
        "colab_type": "text"
      },
      "source": [
        "The analytical expression for Multivariate Polynomial function gets complicated. For example, the expression for a second-order (degree=2)polynomial with two variables is given by:\n",
        "\n",
        "𝑌ℎ𝑎𝑡=𝑎+𝑏1𝑋1+𝑏2𝑋2+𝑏3𝑋1𝑋2+𝑏4𝑋21+𝑏5𝑋22\n",
        "\n",
        " \n",
        "\n",
        "We can perform a polynomial transform on multiple features. First, we import the module:"
      ]
    },
    {
      "cell_type": "code",
      "metadata": {
        "id": "EmdvcdzQcoQ9",
        "colab_type": "code",
        "colab": {}
      },
      "source": [
        "from sklearn.preprocessing import PolynomialFeatures"
      ],
      "execution_count": 0,
      "outputs": []
    },
    {
      "cell_type": "code",
      "metadata": {
        "colab_type": "code",
        "id": "lQ6mMAhWdly7",
        "colab": {
          "base_uri": "https://localhost:8080/",
          "height": 51
        },
        "outputId": "39065ed8-a4c3-438c-f6af-693cc79aa436"
      },
      "source": [
        "# We create a **PolynomialFeatures** object of second degree\n",
        "pr = PolynomialFeatures(degree = 2)\n",
        "pr"
      ],
      "execution_count": 36,
      "outputs": [
        {
          "output_type": "execute_result",
          "data": {
            "text/plain": [
              "PolynomialFeatures(degree=2, include_bias=True, interaction_only=False,\n",
              "                   order='C')"
            ]
          },
          "metadata": {
            "tags": []
          },
          "execution_count": 36
        }
      ]
    },
    {
      "cell_type": "code",
      "metadata": {
        "id": "OMBtDlDHdowi",
        "colab_type": "code",
        "colab": {}
      },
      "source": [
        "Z_pr = pr.fit_transform(Z)\n"
      ],
      "execution_count": 0,
      "outputs": []
    },
    {
      "cell_type": "markdown",
      "metadata": {
        "id": "VqqbtPadd_Xl",
        "colab_type": "text"
      },
      "source": [
        "The original data is of 201 samples and 15 features"
      ]
    },
    {
      "cell_type": "code",
      "metadata": {
        "id": "M5Cff12AeENH",
        "colab_type": "code",
        "colab": {}
      },
      "source": [
        "Z_pr.shape"
      ],
      "execution_count": 0,
      "outputs": []
    },
    {
      "cell_type": "markdown",
      "metadata": {
        "id": "8ukCYwAxeLEO",
        "colab_type": "text"
      },
      "source": [
        "## Pipeline\n",
        "Data Pipelines simplify the steps of processing the data. We use the module Pipeline to create a pipeline. We also use StandardScaler as a step in our pipeline."
      ]
    },
    {
      "cell_type": "code",
      "metadata": {
        "id": "188JqXL_eFw4",
        "colab_type": "code",
        "colab": {}
      },
      "source": [
        "from sklearn.pipeline import Pipeline\n",
        "from sklearn.preprocessing import StandardScaler"
      ],
      "execution_count": 0,
      "outputs": []
    },
    {
      "cell_type": "markdown",
      "metadata": {
        "id": "I2TaeWAveVuz",
        "colab_type": "text"
      },
      "source": [
        "\n",
        "We create the pipeline, by creating a list of tuples including the name of the model or estimator and its corresponding constructor."
      ]
    },
    {
      "cell_type": "code",
      "metadata": {
        "id": "FtPf1_6VeVMB",
        "colab_type": "code",
        "colab": {}
      },
      "source": [
        "Input=[('scale',StandardScaler()), ('polynomial', PolynomialFeatures(include_bias=False)), ('model',LinearRegression())]"
      ],
      "execution_count": 0,
      "outputs": []
    },
    {
      "cell_type": "markdown",
      "metadata": {
        "id": "UJ-khxCvedMe",
        "colab_type": "text"
      },
      "source": [
        "we input the list as an argument to the pipeline constructor "
      ]
    },
    {
      "cell_type": "code",
      "metadata": {
        "id": "OMVSPJNkecwn",
        "colab_type": "code",
        "colab": {}
      },
      "source": [
        "pipe=Pipeline(Input)\n",
        "pipe"
      ],
      "execution_count": 0,
      "outputs": []
    },
    {
      "cell_type": "code",
      "metadata": {
        "id": "zuFjf_mhef6n",
        "colab_type": "code",
        "colab": {}
      },
      "source": [
        "pipe.fit(Z,y)"
      ],
      "execution_count": 0,
      "outputs": []
    },
    {
      "cell_type": "code",
      "metadata": {
        "id": "tgAFKaz4eqGa",
        "colab_type": "code",
        "colab": {}
      },
      "source": [
        "#Similarly, we can normalize the data, perform a transform and produce a prediction simultaneously\n",
        "\n",
        "ypipe=pipe.predict(Z)\n",
        "ypipe[0:4]"
      ],
      "execution_count": 0,
      "outputs": []
    },
    {
      "cell_type": "markdown",
      "metadata": {
        "id": "G2ZJM9WLe7Wu",
        "colab_type": "text"
      },
      "source": [
        "## Part 4: Measures for In-Sample Evaluation\n",
        "When evaluating our models, not only do we want to visualize the results, but we also want a quantitative measure to determine how accurate the model is.\n",
        "\n",
        "Two very important measures that are often used in Statistics to determine the accuracy of a model are:\n",
        "\n",
        "R^2 / R-squared\n",
        "Mean Squared Error (MSE)\n",
        "R-squared\n",
        "\n",
        "R squared, also known as the coefficient of determination, is a measure to indicate how close the data is to the fitted regression line.\n",
        "\n",
        "The value of the R-squared is the percentage of variation of the response variable (y) that is explained by a linear model.\n",
        "\n",
        "Mean Squared Error (MSE)\n",
        "\n",
        "The Mean Squared Error measures the average of the squares of errors, that is, the difference between actual value (y) and the estimated value (ŷ).\n",
        "\n",
        "Model 1: Simple Linear Regression\n",
        "\n",
        "Let's calculate the R^2"
      ]
    },
    {
      "cell_type": "code",
      "metadata": {
        "id": "FVrUWZ8Ae_D_",
        "colab_type": "code",
        "colab": {}
      },
      "source": [
        "#highway mpg fit\n",
        "lm.fit(X,Y)\n",
        "#Find the R^2\n",
        "print('The R-square is: ', lm.score(X,Y))"
      ],
      "execution_count": 0,
      "outputs": []
    },
    {
      "cell_type": "markdown",
      "metadata": {
        "id": "suuQFS0ypNke",
        "colab_type": "text"
      },
      "source": [
        "We can say that ~ 49.659% of the variation of the price is explained by this simple linear model \"horsepower_fit\".\n",
        "\n",
        "Let's calculate the MSE\n",
        "\n",
        "We can predict the output i.e., \"yhat\" using the predict method, where X is the input variable:"
      ]
    },
    {
      "cell_type": "code",
      "metadata": {
        "id": "Qxro2fHSpFbo",
        "colab_type": "code",
        "colab": {}
      },
      "source": [
        "Yhat = lm.predict(X)\n",
        "print('The output of the first four predicted value is: ',Yhat[0:4])"
      ],
      "execution_count": 0,
      "outputs": []
    },
    {
      "cell_type": "markdown",
      "metadata": {
        "id": "pMHtUhwBpg9K",
        "colab_type": "text"
      },
      "source": [
        "lets import the function mean_squared_error from the module metrics"
      ]
    },
    {
      "cell_type": "code",
      "metadata": {
        "id": "sT1TX8j6pceJ",
        "colab_type": "code",
        "colab": {}
      },
      "source": [
        "from sklearn.metrics import mean_squared_error"
      ],
      "execution_count": 0,
      "outputs": []
    },
    {
      "cell_type": "markdown",
      "metadata": {
        "id": "9aWJaMi0pm9D",
        "colab_type": "text"
      },
      "source": [
        "compare predicted results with the actual ones"
      ]
    },
    {
      "cell_type": "code",
      "metadata": {
        "id": "8mkVtH8OpmY5",
        "colab_type": "code",
        "colab": {}
      },
      "source": [
        "mse = mean_squared_error(df['price'], Yhat)\n",
        "print('The mean square error of price and predicted value is: ', mse)"
      ],
      "execution_count": 0,
      "outputs": []
    },
    {
      "cell_type": "markdown",
      "metadata": {
        "id": "7LRUJPl1pzEu",
        "colab_type": "text"
      },
      "source": [
        "## Model 2: Multiple Linear Regression\n",
        "Let's calculate the R^2"
      ]
    },
    {
      "cell_type": "code",
      "metadata": {
        "id": "IYQ2FSL2pv7C",
        "colab_type": "code",
        "colab": {
          "base_uri": "https://localhost:8080/",
          "height": 34
        },
        "outputId": "58644d71-bf8a-4231-dcd3-7adcf68384c8"
      },
      "source": [
        "lm.fit(Z,df['price'])\n",
        "#Find the R-square\n",
        "print('The R-square is: ', lm.score(Z, df['price']))"
      ],
      "execution_count": 50,
      "outputs": [
        {
          "output_type": "stream",
          "text": [
            "The R-square is:  0.8093562806577457\n"
          ],
          "name": "stdout"
        }
      ]
    },
    {
      "cell_type": "markdown",
      "metadata": {
        "id": "4NCv2zqfqK2E",
        "colab_type": "text"
      },
      "source": [
        "We can say that ~ 80.896 % of the variation of price is explained by this multiple linear regression \"multi_fit\".\n",
        "\n",
        "Let's calculate the MSE\n",
        "\n",
        "we produce a prediction"
      ]
    },
    {
      "cell_type": "code",
      "metadata": {
        "id": "KdqHvKxAqHXb",
        "colab_type": "code",
        "colab": {}
      },
      "source": [
        "Y_predict_multifit = lm.predict(Z)"
      ],
      "execution_count": 0,
      "outputs": []
    },
    {
      "cell_type": "markdown",
      "metadata": {
        "id": "8s4lzr84qRkZ",
        "colab_type": "text"
      },
      "source": [
        "We compare the results"
      ]
    },
    {
      "cell_type": "code",
      "metadata": {
        "id": "yyNy8dayqPZt",
        "colab_type": "code",
        "colab": {}
      },
      "source": [
        "print('The mean square error of price and predicted value using multifit is: ', \\\n",
        "      mean_squared_error(df['price'], Y_predict_multifit))"
      ],
      "execution_count": 0,
      "outputs": []
    },
    {
      "cell_type": "markdown",
      "metadata": {
        "id": "NXFnMfhwqb5k",
        "colab_type": "text"
      },
      "source": [
        "## Model 3: Polynomial Fit\n",
        "Let's calculate the R^2\n",
        "\n",
        "let’s import the function r2_score from the module metrics as we are using a different function"
      ]
    },
    {
      "cell_type": "code",
      "metadata": {
        "id": "6HtzDdjGqWib",
        "colab_type": "code",
        "colab": {}
      },
      "source": [
        "from sklearn.metrics import r2_score"
      ],
      "execution_count": 0,
      "outputs": []
    },
    {
      "cell_type": "markdown",
      "metadata": {
        "id": "A9BpCQfAqk6G",
        "colab_type": "text"
      },
      "source": [
        "We apply the function to get the value of r^2"
      ]
    },
    {
      "cell_type": "code",
      "metadata": {
        "id": "2a8hRxK4qkYg",
        "colab_type": "code",
        "colab": {}
      },
      "source": [
        "r_squared = r2_score(y, p(x))\n",
        "print('The R-square value is: ', r_squared)"
      ],
      "execution_count": 0,
      "outputs": []
    },
    {
      "cell_type": "markdown",
      "metadata": {
        "id": "eAvyKomDq3zh",
        "colab_type": "text"
      },
      "source": [
        "## MSE \n",
        "\n",
        "We can also calculate the MSE:"
      ]
    },
    {
      "cell_type": "code",
      "metadata": {
        "id": "RtN6ljUZq189",
        "colab_type": "code",
        "colab": {}
      },
      "source": [
        "mean_squared_error(df['price'],p(x))"
      ],
      "execution_count": 0,
      "outputs": []
    },
    {
      "cell_type": "markdown",
      "metadata": {
        "id": "oFPLIbZarEOx",
        "colab_type": "text"
      },
      "source": [
        "## Part 5: Prediction and Decision Making\n",
        "\n",
        "Prediction\n",
        "\n",
        "In the previous section, we trained the model using the method fit. Now we will use the method predict to produce a prediction. Lets import pyplot for plotting; we will also be using some functions from numpy."
      ]
    },
    {
      "cell_type": "code",
      "metadata": {
        "id": "-u9_rZM6rCtV",
        "colab_type": "code",
        "colab": {}
      },
      "source": [
        "import matplotlib.pyplot as plt\n",
        "import numpy as np\n",
        "%matplotlib inline"
      ],
      "execution_count": 0,
      "outputs": []
    },
    {
      "cell_type": "code",
      "metadata": {
        "id": "7uDyWzEErO-C",
        "colab_type": "code",
        "colab": {}
      },
      "source": [
        "#Create a new input\n",
        "new_input = np.arange(1,100,1).reshape(-1,1)"
      ],
      "execution_count": 0,
      "outputs": []
    },
    {
      "cell_type": "markdown",
      "metadata": {
        "id": "rFCvlEhBre8l",
        "colab_type": "text"
      },
      "source": [
        "Fit the model"
      ]
    },
    {
      "cell_type": "code",
      "metadata": {
        "id": "jWMMkcDNrbJn",
        "colab_type": "code",
        "colab": {}
      },
      "source": [
        "lm.fit(X,Y)\n",
        "lm"
      ],
      "execution_count": 0,
      "outputs": []
    },
    {
      "cell_type": "markdown",
      "metadata": {
        "id": "tb-cmXUKrmHZ",
        "colab_type": "text"
      },
      "source": [
        "Produce a prediction"
      ]
    },
    {
      "cell_type": "code",
      "metadata": {
        "id": "OTUr0NNgrjoa",
        "colab_type": "code",
        "colab": {}
      },
      "source": [
        "yhat = lm.predict(new_input)\n",
        "yhat[0:5]"
      ],
      "execution_count": 0,
      "outputs": []
    },
    {
      "cell_type": "markdown",
      "metadata": {
        "id": "EkP9j-YDrv9G",
        "colab_type": "text"
      },
      "source": [
        "We can plot the data"
      ]
    },
    {
      "cell_type": "code",
      "metadata": {
        "id": "piHexLrursq1",
        "colab_type": "code",
        "colab": {}
      },
      "source": [
        "plt.plot(new_input, yhat)\n",
        "plt.show()"
      ],
      "execution_count": 0,
      "outputs": []
    },
    {
      "cell_type": "markdown",
      "metadata": {
        "id": "7nX3Veh1r3xe",
        "colab_type": "text"
      },
      "source": [
        "Decision Making: Determining a Good Model Fit\n",
        "Now that we have visualized the different models, and generated the R-squared and MSE values for the fits, how do we determine a good model fit?\n",
        "\n",
        "What is a good R-squared value?\n",
        "When comparing models, the model with the higher R-squared value is a better fit for the data.\n",
        "\n",
        "What is a good MSE?\n",
        "When comparing models, the model with the smallest MSE value is a better fit for the data.\n",
        "\n",
        "Let's take a look at the values for the different models.\n",
        "\n",
        "Simple Linear Regression: Using Highway-mpg as a Predictor Variable of Price.\n",
        "\n",
        "R-squared: 0.49659118843391759\n",
        "MSE: 3.16 x10^7\n",
        "Multiple Linear Regression: Using Horsepower, Curb-weight, Engine-size, and Highway-mpg as Predictor Variables of Price.\n",
        "\n",
        "R-squared: 0.80896354913783497\n",
        "MSE: 1.2 x10^7\n",
        "Polynomial Fit: Using Highway-mpg as a Predictor Variable of Price.\n",
        "\n",
        "R-squared: 0.6741946663906514\n",
        "MSE: 2.05 x 10^7\n",
        "Simple Linear Regression model (SLR) vs Multiple Linear Regression model (MLR)\n",
        "Usually, the more variables you have, the better your model is at predicting, but this is not always true. Sometimes you may not have enough data, you may run into numerical problems, or many of the variables may not be useful and or even act as noise. As a result, you should always check the MSE and R^2.\n",
        "\n",
        "So to be able to compare the results of the MLR vs SLR models, we look at a combination of both the R-squared and MSE to make the best conclusion about the fit of the model.\n",
        "\n",
        "MSEThe MSE of SLR is 3.16x10^7 while MLR has an MSE of 1.2 x10^7. The MSE of MLR is much smaller.\n",
        "R-squared: In this case, we can also see that there is a big difference between the R-squared of the SLR and the R-squared of the MLR. The R-squared for the SLR (~0.497) is very small compared to the R-squared for the MLR (~0.809).\n",
        "This R-squared in combination with the MSE show that MLR seems like the better model fit in this case, compared to SLR.\n",
        "\n",
        "Simple Linear Model (SLR) vs Polynomial Fit\n",
        "MSE: We can see that Polynomial Fit brought down the MSE, since this MSE is smaller than the one from the SLR.\n",
        "R-squared: The R-squared for the Polyfit is larger than the R-squared for the SLR, so the Polynomial Fit also brought up the R-squared quite a bit.\n",
        "Since the Polynomial Fit resulted in a lower MSE and a higher R-squared, we can conclude that this was a better fit model than the simple linear regression for predicting Price with Highway-mpg as a predictor variable.\n",
        "\n",
        "Multiple Linear Regression (MLR) vs Polynomial Fit\n",
        "MSE: The MSE for the MLR is smaller than the MSE for the Polynomial Fit.\n",
        "R-squared: The R-squared for the MLR is also much larger than for the Polynomial Fit.\n",
        "Conclusion:\n",
        "Comparing these three models, we conclude that the MLR model is the best model to be able to predict price from our dataset. This result makes sense, since we have 27 variables in total, and we know that more than one of those variables are potential predictors of the final car price."
      ]
    }
  ]
}