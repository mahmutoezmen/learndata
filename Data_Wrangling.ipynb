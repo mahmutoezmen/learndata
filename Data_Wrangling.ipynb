{
  "nbformat": 4,
  "nbformat_minor": 0,
  "metadata": {
    "colab": {
      "name": "Data Wrangling.ipynb",
      "provenance": [],
      "collapsed_sections": [],
      "authorship_tag": "ABX9TyNLCXl1+umetHIoL36zGDW8",
      "include_colab_link": true
    },
    "kernelspec": {
      "name": "python3",
      "display_name": "Python 3"
    }
  },
  "cells": [
    {
      "cell_type": "markdown",
      "metadata": {
        "id": "view-in-github",
        "colab_type": "text"
      },
      "source": [
        "<a href=\"https://colab.research.google.com/github/mahoneynomadic/learnpython/blob/master/Data_Wrangling.ipynb\" target=\"_parent\"><img src=\"https://colab.research.google.com/assets/colab-badge.svg\" alt=\"Open In Colab\"/></a>"
      ]
    },
    {
      "cell_type": "markdown",
      "metadata": {
        "id": "6IM1LDbQwd_r",
        "colab_type": "text"
      },
      "source": [
        "# What is the purpose of Data Wrangling?\n",
        "\n",
        "Data Wrangling is the process of converting data from the initial format to a format that may be better for analysis.\n",
        "\n",
        "## What is the fuel consumption (L/100k) rate for the diesel car?\n",
        "\n",
        "### Import data\n",
        "\n",
        "You can find the \"Automobile Data Set\" from the following link: https://archive.ics.uci.edu/ml/machine-learning-databases/autos/imports-85.data. We will be using this data set throughout this course."
      ]
    },
    {
      "cell_type": "code",
      "metadata": {
        "id": "4bifIZ_XweNe",
        "colab_type": "code",
        "colab": {}
      },
      "source": [
        "import pandas as pd\n",
        "import matplotlib.pylab as plt"
      ],
      "execution_count": 0,
      "outputs": []
    },
    {
      "cell_type": "markdown",
      "metadata": {
        "id": "Y2C1E1Jiwedf",
        "colab_type": "text"
      },
      "source": [
        "Reading the data set from the URL and adding the related headers.\n",
        "URL of the dataset\n",
        "\n",
        "This dataset was hosted on Cloud "
      ]
    },
    {
      "cell_type": "code",
      "metadata": {
        "id": "3Ny4A_52wyiq",
        "colab_type": "code",
        "colab": {}
      },
      "source": [
        "filename = \"https://s3-api.us-geo.objectstorage.softlayer.net/cf-courses-data/CognitiveClass/DA0101EN/auto.csv\""
      ],
      "execution_count": 0,
      "outputs": []
    },
    {
      "cell_type": "markdown",
      "metadata": {
        "id": "ZAPCSaAGwzsw",
        "colab_type": "text"
      },
      "source": [
        "Python list headers containing name of headers"
      ]
    },
    {
      "cell_type": "code",
      "metadata": {
        "id": "a6H8WAIKw1mD",
        "colab_type": "code",
        "colab": {}
      },
      "source": [
        "headers = [\"symboling\",\"normalized-losses\",\"make\",\"fuel-type\",\"aspiration\", \"num-of-doors\",\"body-style\",\n",
        "         \"drive-wheels\",\"engine-location\",\"wheel-base\", \"length\",\"width\",\"height\",\"curb-weight\",\"engine-type\",\n",
        "         \"num-of-cylinders\", \"engine-size\",\"fuel-system\",\"bore\",\"stroke\",\"compression-ratio\",\"horsepower\",\n",
        "         \"peak-rpm\",\"city-mpg\",\"highway-mpg\",\"price\"]"
      ],
      "execution_count": 0,
      "outputs": []
    },
    {
      "cell_type": "markdown",
      "metadata": {
        "id": "0RrmpkTnw-h_",
        "colab_type": "text"
      },
      "source": [
        "Use the Pandas method read_csv() to load the data from the web address. Set the parameter \"names\" equal to the Python list \"headers\"."
      ]
    },
    {
      "cell_type": "code",
      "metadata": {
        "id": "_tUPV3oHw_8q",
        "colab_type": "code",
        "colab": {}
      },
      "source": [
        "df = pd.read_csv(filename, names = headers)"
      ],
      "execution_count": 0,
      "outputs": []
    },
    {
      "cell_type": "markdown",
      "metadata": {
        "id": "4_OEN5hdxB6P",
        "colab_type": "text"
      },
      "source": [
        "Use the method head() to display the first five rows of the dataframe."
      ]
    },
    {
      "cell_type": "code",
      "metadata": {
        "id": "jqbLrzpYxDvo",
        "colab_type": "code",
        "colab": {}
      },
      "source": [
        "# To see what the data set looks like, we'll use the head() method.\n",
        "df.head(5)"
      ],
      "execution_count": 0,
      "outputs": []
    },
    {
      "cell_type": "markdown",
      "metadata": {
        "id": "krd5XBr2xG4_",
        "colab_type": "text"
      },
      "source": [
        "As we can see, several question marks appeared in the dataframe; those are missing values which may hinder our further analysis.\n",
        "\n",
        "So, how do we identify all those missing values and deal with them?\n",
        "How to work with missing data?\n",
        "\n",
        "Steps for working with missing data:\n",
        "\n",
        "identify missing data\n",
        "deal with missing data\n",
        "correct data format\n",
        "\n",
        "# Identify and handle missing values\n",
        "\n",
        "## Identify missing values\n",
        "\n",
        "### Convert \"?\" to NaN\n",
        "\n",
        "In the car dataset, missing data comes with the question mark \"?\". We replace \"?\" with NaN (Not a Number), which is Python's default missing value marker, for reasons of computational speed and convenience. Here we use the function:\n",
        ".replace(A, B, inplace = True) \n",
        "to replace A by B"
      ]
    },
    {
      "cell_type": "code",
      "metadata": {
        "id": "b0tfP0R3xMmG",
        "colab_type": "code",
        "colab": {}
      },
      "source": [
        "import numpy as np\n",
        "\n",
        "# replace \"?\" to NaN\n",
        "df.replace(\"?\", np.nan, inplace = True)\n",
        "df.head(5)"
      ],
      "execution_count": 0,
      "outputs": []
    },
    {
      "cell_type": "markdown",
      "metadata": {
        "id": "38UCdJznxOw2",
        "colab_type": "text"
      },
      "source": [
        "# Evaluating for Missing Data\n",
        "\n",
        "The missing values are converted to Python's default. We use Python's built-in functions to identify these missing values. There are two methods to detect missing data:\n",
        "\n",
        "**.isnull()**\n",
        "\n",
        "**.notnull()**\n",
        "\n",
        "The output is a boolean value indicating whether the value that is passed into the argument is in fact missing data."
      ]
    },
    {
      "cell_type": "code",
      "metadata": {
        "id": "v90kKo_5xZEJ",
        "colab_type": "code",
        "colab": {
          "base_uri": "https://localhost:8080/",
          "height": 201
        },
        "outputId": "1cee1653-0979-49d5-9e83-5cb491f8f2c6"
      },
      "source": [
        "missing_data = df.isnull()\n",
        "missing_data.head(5)"
      ],
      "execution_count": 1,
      "outputs": [
        {
          "output_type": "error",
          "ename": "NameError",
          "evalue": "ignored",
          "traceback": [
            "\u001b[0;31m---------------------------------------------------------------------------\u001b[0m",
            "\u001b[0;31mNameError\u001b[0m                                 Traceback (most recent call last)",
            "\u001b[0;32m<ipython-input-1-3cfed661e69e>\u001b[0m in \u001b[0;36m<module>\u001b[0;34m()\u001b[0m\n\u001b[0;32m----> 1\u001b[0;31m \u001b[0mmissing_data\u001b[0m \u001b[0;34m=\u001b[0m \u001b[0mdf\u001b[0m\u001b[0;34m.\u001b[0m\u001b[0misnull\u001b[0m\u001b[0;34m(\u001b[0m\u001b[0;34m)\u001b[0m\u001b[0;34m\u001b[0m\u001b[0;34m\u001b[0m\u001b[0m\n\u001b[0m\u001b[1;32m      2\u001b[0m \u001b[0mmissing_data\u001b[0m\u001b[0;34m.\u001b[0m\u001b[0mhead\u001b[0m\u001b[0;34m(\u001b[0m\u001b[0;36m5\u001b[0m\u001b[0;34m)\u001b[0m\u001b[0;34m\u001b[0m\u001b[0;34m\u001b[0m\u001b[0m\n",
            "\u001b[0;31mNameError\u001b[0m: name 'df' is not defined"
          ]
        }
      ]
    },
    {
      "cell_type": "markdown",
      "metadata": {
        "id": "KDGHYxwPxcUd",
        "colab_type": "text"
      },
      "source": [
        "\"True\" stands for missing value, while \"False\" stands for not missing value.\n",
        "\n",
        "### Count missing values in each column\n",
        "\n",
        "Using a for loop in Python, we can quickly figure out the number of missing values in each column. As mentioned above, \"True\" represents a missing value, \"False\" means the value is present in the dataset. In the body of the for loop the method \".value_counts()\" counts the number of \"True\" values."
      ]
    },
    {
      "cell_type": "code",
      "metadata": {
        "id": "4aL4BLTAxhWv",
        "colab_type": "code",
        "colab": {
          "base_uri": "https://localhost:8080/",
          "height": 235
        },
        "outputId": "abe1c959-6d75-4a6c-d41b-a5bcbb24daa8"
      },
      "source": [
        "for column in missing_data.columns.values.tolist():\n",
        "    print(column)\n",
        "    print (missing_data[column].value_counts())\n",
        "    print(\"\")    "
      ],
      "execution_count": 2,
      "outputs": [
        {
          "output_type": "error",
          "ename": "NameError",
          "evalue": "ignored",
          "traceback": [
            "\u001b[0;31m---------------------------------------------------------------------------\u001b[0m",
            "\u001b[0;31mNameError\u001b[0m                                 Traceback (most recent call last)",
            "\u001b[0;32m<ipython-input-2-e9d055755d09>\u001b[0m in \u001b[0;36m<module>\u001b[0;34m()\u001b[0m\n\u001b[0;32m----> 1\u001b[0;31m \u001b[0;32mfor\u001b[0m \u001b[0mcolumn\u001b[0m \u001b[0;32min\u001b[0m \u001b[0mmissing_data\u001b[0m\u001b[0;34m.\u001b[0m\u001b[0mcolumns\u001b[0m\u001b[0;34m.\u001b[0m\u001b[0mvalues\u001b[0m\u001b[0;34m.\u001b[0m\u001b[0mtolist\u001b[0m\u001b[0;34m(\u001b[0m\u001b[0;34m)\u001b[0m\u001b[0;34m:\u001b[0m\u001b[0;34m\u001b[0m\u001b[0;34m\u001b[0m\u001b[0m\n\u001b[0m\u001b[1;32m      2\u001b[0m     \u001b[0mprint\u001b[0m\u001b[0;34m(\u001b[0m\u001b[0mcolumn\u001b[0m\u001b[0;34m)\u001b[0m\u001b[0;34m\u001b[0m\u001b[0;34m\u001b[0m\u001b[0m\n\u001b[1;32m      3\u001b[0m     \u001b[0mprint\u001b[0m \u001b[0;34m(\u001b[0m\u001b[0mmissing_data\u001b[0m\u001b[0;34m[\u001b[0m\u001b[0mcolumn\u001b[0m\u001b[0;34m]\u001b[0m\u001b[0;34m.\u001b[0m\u001b[0mvalue_counts\u001b[0m\u001b[0;34m(\u001b[0m\u001b[0;34m)\u001b[0m\u001b[0;34m)\u001b[0m\u001b[0;34m\u001b[0m\u001b[0;34m\u001b[0m\u001b[0m\n\u001b[1;32m      4\u001b[0m     \u001b[0mprint\u001b[0m\u001b[0;34m(\u001b[0m\u001b[0;34m\"\"\u001b[0m\u001b[0;34m)\u001b[0m\u001b[0;34m\u001b[0m\u001b[0;34m\u001b[0m\u001b[0m\n",
            "\u001b[0;31mNameError\u001b[0m: name 'missing_data' is not defined"
          ]
        }
      ]
    },
    {
      "cell_type": "markdown",
      "metadata": {
        "id": "1uPdRGqtxquT",
        "colab_type": "text"
      },
      "source": [
        "Based on the summary above, each column has 205 rows of data, seven columns containing missing data:\n",
        "\n",
        "\"normalized-losses\": 41 missing data\n",
        "\"num-of-doors\": 2 missing data\n",
        "\"bore\": 4 missing data\n",
        "\"stroke\" : 4 missing data\n",
        "\"horsepower\": 2 missing data\n",
        "\"peak-rpm\": 2 missing data\n",
        "\"price\": 4 missing data\n",
        "Deal with missing data\n",
        "\n",
        "How to deal with missing data?\n",
        "drop data\n",
        "a. drop the whole row\n",
        "b. drop the whole column\n",
        "replace data\n",
        "a. replace it by mean\n",
        "b. replace it by frequency\n",
        "c. replace it based on other functions\n",
        "Whole columns should be dropped only if most entries in the column are empty. In our dataset, none of the columns are empty enough to drop entirely. We have some freedom in choosing which method to replace data; however, some methods may seem more reasonable than others. We will apply each method to many different columns:\n",
        "\n",
        "Replace by mean:\n",
        "\n",
        "\"normalized-losses\": 41 missing data, replace them with mean\n",
        "\"stroke\": 4 missing data, replace them with mean\n",
        "\"bore\": 4 missing data, replace them with mean\n",
        "\"horsepower\": 2 missing data, replace them with mean\n",
        "\"peak-rpm\": 2 missing data, replace them with mean\n",
        "Replace by frequency:\n",
        "\n",
        "\"num-of-doors\": 2 missing data, replace them with \"four\".\n",
        "Reason: 84% sedans is four doors. Since four doors is most frequent, it is most likely to occur\n",
        "Drop the whole row:\n",
        "\n",
        "\"price\": 4 missing data, simply delete the whole row\n",
        "Reason: price is what we want to predict. Any data entry without price data cannot be used for prediction; therefore any row now without price data is not useful to us\n",
        "\n",
        "#### Calculate the average of the column "
      ]
    },
    {
      "cell_type": "code",
      "metadata": {
        "id": "wY6-wF5Kxzjv",
        "colab_type": "code",
        "colab": {}
      },
      "source": [
        "avg_norm_loss = df[\"normalized-losses\"].astype(\"float\").mean(axis=0)\n",
        "print(\"Average of normalized-losses:\", avg_norm_loss)"
      ],
      "execution_count": 0,
      "outputs": []
    },
    {
      "cell_type": "code",
      "metadata": {
        "id": "wK2I0egwx273",
        "colab_type": "code",
        "colab": {}
      },
      "source": [
        "#Replace \"NaN\" by mean value in \"normalized-losses\" column\n",
        "\n",
        "df[\"normalized-losses\"].replace(np.nan, avg_norm_loss, inplace=True)\n",
        "\n",
        "#Calculate the mean value for 'bore' column\n",
        "\n",
        "avg_bore=df['bore'].astype('float').mean(axis=0)\n",
        "print(\"Average of bore:\", avg_bore)\n",
        "\n",
        "#Replace NaN by mean value\n",
        "df[\"bore\"].replace(np.nan, avg_bore, inplace=True)"
      ],
      "execution_count": 0,
      "outputs": []
    },
    {
      "cell_type": "markdown",
      "metadata": {
        "id": "WN0OFv0myDlb",
        "colab_type": "text"
      },
      "source": [
        "## Question #1: \n",
        "\n",
        "According to the example above, replace NaN in \"stroke\" column by mean."
      ]
    },
    {
      "cell_type": "code",
      "metadata": {
        "id": "Fw0CmWBvyG8Q",
        "colab_type": "code",
        "colab": {}
      },
      "source": [
        "avg_stroke = df['stroke'].astype('float').mean(axis=0)\n",
        "print('Average Stroke:' , str(avg_stroke))\n",
        "df['stroke'].replace(np.nan, avg_stroke, inplace=True)\n",
        "\n",
        "\n",
        "#Calculate the mean value for the 'horsepower' column:\n",
        "\n",
        "avg_horsepower = df['horsepower'].astype('float').mean(axis=0)\n",
        "print(\"Average horsepower:\", avg_horsepower)\n",
        "\n",
        "#Replace \"NaN\" by mean value:\n",
        "df['horsepower'].replace(np.nan, avg_horsepower, inplace=True)\n",
        "\n",
        "#Calculate the mean value for 'peak-rpm' column:\n",
        "avg_peakrpm=df['peak-rpm'].astype('float').mean(axis=0)\n",
        "print(\"Average peak rpm:\", avg_peakrpm)\n",
        "\n",
        "#Replace NaN by mean value:\n",
        "df['peak-rpm'].replace(np.nan, avg_peakrpm, inplace=True)\n",
        "\n",
        "#To see which values are present in a particular column, we can use the \".value_counts()\" method:\n",
        "\n",
        "df['num-of-doors'].value_counts()\n",
        "\n",
        "#We can see that four doors are the most common type. We can also use the \".idxmax()\" method to calculate for us the most common type automatically:\n",
        "df['num-of-doors'].value_counts().idxmax()\n",
        "\n",
        "#The replacement procedure is very similar to what we have seen previously\n",
        "\n",
        "#replace the missing 'num-of-doors' values by the most frequent \n",
        "df[\"num-of-doors\"].replace(np.nan, \"four\", inplace=True)"
      ],
      "execution_count": 0,
      "outputs": []
    },
    {
      "cell_type": "code",
      "metadata": {
        "id": "Ja5FXddpy5uo",
        "colab_type": "code",
        "colab": {}
      },
      "source": [
        "#Finally, let's drop all rows that do not have price data:\n",
        "\n",
        "# simply drop whole row with NaN in \"price\" column\n",
        "df.dropna(subset=[\"price\"], axis=0, inplace=True)\n",
        "\n",
        "# reset index, because we droped two rows\n",
        "df.reset_index(drop=True, inplace=True)\n",
        "\n",
        "df.head()"
      ],
      "execution_count": 0,
      "outputs": []
    },
    {
      "cell_type": "markdown",
      "metadata": {
        "id": "JuX5iAW6zA7k",
        "colab_type": "text"
      },
      "source": [
        "Good! Now, we obtain the dataset with no missing values.\n",
        "\n",
        "## Correct data format\n",
        "\n",
        "#### We are almost there!\n",
        "The last step in data cleaning is checking and making sure that all data is in the correct format (int, float, text or other).\n",
        "\n",
        "In Pandas, we use\n",
        "\n",
        ".dtype() to check the data type\n",
        "\n",
        ".astype() to change the data type\n",
        "\n",
        "Lets list the data types for each column"
      ]
    },
    {
      "cell_type": "code",
      "metadata": {
        "id": "G7JTz8wezE1c",
        "colab_type": "code",
        "colab": {}
      },
      "source": [
        "df.dtypes()"
      ],
      "execution_count": 0,
      "outputs": []
    },
    {
      "cell_type": "markdown",
      "metadata": {
        "id": "Ma3r2yL6zGhQ",
        "colab_type": "text"
      },
      "source": [
        "As we can see above, some columns are not of the correct data type. Numerical variables should have type 'float' or 'int', and variables with strings such as categories should have type 'object'. For example, 'bore' and 'stroke' variables are numerical values that describe the engines, so we should expect them to be of the type 'float' or 'int'; however, they are shown as type 'object'. We have to convert data types into a proper format for each column using the \"astype()\" method.\n",
        "\n",
        "### Convert data types to proper format"
      ]
    },
    {
      "cell_type": "code",
      "metadata": {
        "id": "UvgU0IGTzKUp",
        "colab_type": "code",
        "colab": {}
      },
      "source": [
        "df[[\"bore\", \"stroke\"]] = df[[\"bore\", \"stroke\"]].astype(\"float\")\n",
        "df[[\"normalized-losses\"]] = df[[\"normalized-losses\"]].astype(\"int\")\n",
        "df[[\"price\"]] = df[[\"price\"]].astype(\"float\")\n",
        "df[[\"peak-rpm\"]] = df[[\"peak-rpm\"]].astype(\"float\")"
      ],
      "execution_count": 0,
      "outputs": []
    },
    {
      "cell_type": "markdown",
      "metadata": {
        "id": "dZGOh33vzPWW",
        "colab_type": "text"
      },
      "source": [
        "**Let us list the columns after the conversion**"
      ]
    },
    {
      "cell_type": "code",
      "metadata": {
        "id": "JKQPhpjhzMBA",
        "colab_type": "code",
        "colab": {
          "base_uri": "https://localhost:8080/",
          "height": 184
        },
        "outputId": "8711f2f1-0895-4134-ece9-26a52bcb0ccf"
      },
      "source": [
        "df.dtypes"
      ],
      "execution_count": 5,
      "outputs": [
        {
          "output_type": "error",
          "ename": "NameError",
          "evalue": "ignored",
          "traceback": [
            "\u001b[0;31m---------------------------------------------------------------------------\u001b[0m",
            "\u001b[0;31mNameError\u001b[0m                                 Traceback (most recent call last)",
            "\u001b[0;32m<ipython-input-5-5cc0934cc03c>\u001b[0m in \u001b[0;36m<module>\u001b[0;34m()\u001b[0m\n\u001b[0;32m----> 1\u001b[0;31m \u001b[0mdf\u001b[0m\u001b[0;34m.\u001b[0m\u001b[0mdtypes\u001b[0m\u001b[0;34m\u001b[0m\u001b[0;34m\u001b[0m\u001b[0m\n\u001b[0m",
            "\u001b[0;31mNameError\u001b[0m: name 'df' is not defined"
          ]
        }
      ]
    },
    {
      "cell_type": "markdown",
      "metadata": {
        "id": "iaPIOgVmzZjq",
        "colab_type": "text"
      },
      "source": [
        "#### Wonderful!\n",
        "\n",
        "Now, we finally obtain the cleaned dataset with no missing values and all data in its proper format.\n",
        "\n",
        "# Data Standardization\n",
        "\n",
        "Data is usually collected from different agencies with different formats. (Data Standardization is also a term for a particular type of data normalization, where we subtract the mean and divide by the standard deviation)\n",
        "\n",
        "## What is Standardization?\n",
        "\n",
        "Standardization is the process of transforming data into a common format which allows the researcher to make the meaningful comparison.\n",
        "\n",
        "Example\n",
        "\n",
        "Transform mpg to L/100km:\n",
        "\n",
        "In our dataset, the fuel consumption columns \"city-mpg\" and \"highway-mpg\" are represented by mpg (miles per gallon) unit. Assume we are developing an application in a country that accept the fuel consumption with L/100km standard\n",
        "\n",
        "We will need to apply data transformation to transform mpg into L/100km?\n",
        "\n",
        "The formula for unit conversion is\n",
        "\n",
        "L/100km = 235 / mpg\n",
        "\n",
        "We can do many mathematical operations directly in Pandas."
      ]
    },
    {
      "cell_type": "code",
      "metadata": {
        "id": "FE2Hu3UszOAV",
        "colab_type": "code",
        "colab": {}
      },
      "source": [
        "df.head()"
      ],
      "execution_count": 0,
      "outputs": []
    },
    {
      "cell_type": "code",
      "metadata": {
        "id": "vffNtez6zjjU",
        "colab_type": "code",
        "colab": {}
      },
      "source": [
        "# Convert mpg to L/100km by mathematical operation (235 divided by mpg)\n",
        "df['city-L/100km'] = 235/df[\"city-mpg\"]\n",
        "\n",
        "# check your transformed data \n",
        "df.head()"
      ],
      "execution_count": 0,
      "outputs": []
    },
    {
      "cell_type": "markdown",
      "metadata": {
        "id": "x56sslB5zlwU",
        "colab_type": "text"
      },
      "source": [
        "Question #2: \n",
        "\n",
        "According to the example above, transform mpg to L/100km in the column of \"highway-mpg\", and change the name of column to \"highway-L/100km\"."
      ]
    },
    {
      "cell_type": "code",
      "metadata": {
        "id": "3mdhkJ5dzmpO",
        "colab_type": "code",
        "colab": {
          "base_uri": "https://localhost:8080/",
          "height": 218
        },
        "outputId": "9c572676-b23b-483f-cc5f-7df6b4535e36"
      },
      "source": [
        "# Write your code below and press Shift+Enter to execute \n",
        "df[\"highway-mpg\"] = 235/ df[\"highway-mpg\"]\n",
        "\n",
        "df.rename(columns={\"highway-mpg\":\"highway-L/100km\"}, inplace = True)"
      ],
      "execution_count": 6,
      "outputs": [
        {
          "output_type": "error",
          "ename": "NameError",
          "evalue": "ignored",
          "traceback": [
            "\u001b[0;31m---------------------------------------------------------------------------\u001b[0m",
            "\u001b[0;31mNameError\u001b[0m                                 Traceback (most recent call last)",
            "\u001b[0;32m<ipython-input-6-29b7803bb06a>\u001b[0m in \u001b[0;36m<module>\u001b[0;34m()\u001b[0m\n\u001b[0;32m----> 1\u001b[0;31m \u001b[0mdf\u001b[0m\u001b[0;34m[\u001b[0m\u001b[0;34m\"highway-mpg\"\u001b[0m\u001b[0;34m]\u001b[0m \u001b[0;34m=\u001b[0m \u001b[0;36m235\u001b[0m\u001b[0;34m/\u001b[0m \u001b[0mdf\u001b[0m\u001b[0;34m[\u001b[0m\u001b[0;34m\"highway-mpg\"\u001b[0m\u001b[0;34m]\u001b[0m\u001b[0;34m\u001b[0m\u001b[0;34m\u001b[0m\u001b[0m\n\u001b[0m\u001b[1;32m      2\u001b[0m \u001b[0;34m\u001b[0m\u001b[0m\n\u001b[1;32m      3\u001b[0m \u001b[0mdf\u001b[0m\u001b[0;34m.\u001b[0m\u001b[0mrename\u001b[0m\u001b[0;34m(\u001b[0m\u001b[0mcolumns\u001b[0m\u001b[0;34m=\u001b[0m\u001b[0;34m{\u001b[0m\u001b[0;34m\"highway-mpg\"\u001b[0m\u001b[0;34m:\u001b[0m\u001b[0;34m\"highway-L/100km\"\u001b[0m\u001b[0;34m}\u001b[0m\u001b[0;34m,\u001b[0m \u001b[0minplace\u001b[0m \u001b[0;34m=\u001b[0m \u001b[0;32mTrue\u001b[0m\u001b[0;34m)\u001b[0m\u001b[0;34m\u001b[0m\u001b[0;34m\u001b[0m\u001b[0m\n",
            "\u001b[0;31mNameError\u001b[0m: name 'df' is not defined"
          ]
        }
      ]
    },
    {
      "cell_type": "markdown",
      "metadata": {
        "id": "xVHFTwpEzouf",
        "colab_type": "text"
      },
      "source": [
        "Data Normalization\n",
        "\n",
        "Why normalization?\n",
        "\n",
        "Normalization is the process of transforming values of several variables into a similar range. Typical normalizations include scaling the variable so the variable average is 0, scaling the variable so the variance is 1, or scaling variable so the variable values range from 0 to 1\n",
        "\n",
        "Example\n",
        "\n",
        "To demonstrate normalization, let's say we want to scale the columns \"length\", \"width\" and \"height\"\n",
        "\n",
        "Target:would like to Normalize those variables so their value ranges from 0 to 1.\n",
        "\n",
        "Approach: replace original value by (original value)/(maximum value)"
      ]
    },
    {
      "cell_type": "code",
      "metadata": {
        "id": "xy2nb9ILzn4Z",
        "colab_type": "code",
        "colab": {}
      },
      "source": [
        "# replace (original value) by (original value)/(maximum value)\n",
        "df['length'] = df['length']/df['length'].max()\n",
        "df['width'] = df['width']/df['width'].max()"
      ],
      "execution_count": 0,
      "outputs": []
    },
    {
      "cell_type": "markdown",
      "metadata": {
        "id": "5v2LY97Czt7Q",
        "colab_type": "text"
      },
      "source": [
        "Questiont #3: \n",
        "\n",
        "According to the example above, normalize the column \"height\"."
      ]
    },
    {
      "cell_type": "code",
      "metadata": {
        "id": "ocKPWI4czx1t",
        "colab_type": "code",
        "colab": {}
      },
      "source": [
        "# Write your code below and press Shift+Enter to execute \n",
        "df['height'] = df['height'] / df['height'].max()\n",
        "df[['length', 'width','height']].head()"
      ],
      "execution_count": 0,
      "outputs": []
    },
    {
      "cell_type": "markdown",
      "metadata": {
        "id": "9ISKN8J5zvVN",
        "colab_type": "text"
      },
      "source": [
        "Here we can see, we've normalized \"length\", \"width\" and \"height\" in the range of [0,1].\n",
        "\n",
        "Binning\n",
        "\n",
        "Why binning?\n",
        "Binning is a process of transforming continuous numerical variables into discrete categorical 'bins', for grouped analysis.\n",
        "\n",
        "Example:\n",
        "\n",
        "In our dataset, \"horsepower\" is a real valued variable ranging from 48 to 288, it has 57 unique values. What if we only care about the price difference between cars with high horsepower, medium horsepower, and little horsepower (3 types)? Can we rearrange them into three ‘bins' to simplify analysis?\n",
        "\n",
        "We will use the Pandas method 'cut' to segment the 'horsepower' column into 3 bins\n",
        "\n",
        "Example of Binning Data In Pandas\n",
        "Convert data to correct format"
      ]
    },
    {
      "cell_type": "code",
      "metadata": {
        "id": "isN5fK8XzyqN",
        "colab_type": "code",
        "colab": {}
      },
      "source": [
        "df[\"horsepower\"]=df[\"horsepower\"].astype(int, copy=True)"
      ],
      "execution_count": 0,
      "outputs": []
    },
    {
      "cell_type": "markdown",
      "metadata": {
        "id": "wlz2hjk4z4jc",
        "colab_type": "text"
      },
      "source": [
        "Lets plot the histogram of horspower, to see what the distribution of horsepower looks like."
      ]
    },
    {
      "cell_type": "code",
      "metadata": {
        "id": "OpuVXtvBz5vX",
        "colab_type": "code",
        "colab": {}
      },
      "source": [
        "%matplotlib inline\n",
        "import matplotlib as plt\n",
        "from matplotlib import pyplot\n",
        "plt.pyplot.hist(df[\"horsepower\"])\n",
        "\n",
        "# set x/y labels and plot title\n",
        "plt.pyplot.xlabel(\"horsepower\")\n",
        "plt.pyplot.ylabel(\"count\")\n",
        "plt.pyplot.title(\"horsepower bins\")"
      ],
      "execution_count": 0,
      "outputs": []
    },
    {
      "cell_type": "markdown",
      "metadata": {
        "id": "LMwQ-TDHz82G",
        "colab_type": "text"
      },
      "source": [
        "We would like 3 bins of equal size bandwidth so we use numpy's linspace(start_value, end_value, numbers_generated function.\n",
        "\n",
        "Since we want to include the minimum value of horsepower we want to set start_value=min(df[\"horsepower\"]).\n",
        "\n",
        "Since we want to include the maximum value of horsepower we want to set end_value=max(df[\"horsepower\"]).\n",
        "\n",
        "Since we are building 3 bins of equal length, there should be 4 dividers, so numbers_generated=4.\n",
        "\n",
        "We build a bin array, with a minimum value to a maximum value, with bandwidth calculated above. The bins will be values used to determine when one bin ends and another begins."
      ]
    },
    {
      "cell_type": "code",
      "metadata": {
        "id": "0ev8f-nsz-aE",
        "colab_type": "code",
        "colab": {
          "base_uri": "https://localhost:8080/",
          "height": 235
        },
        "outputId": "11350494-1c37-4cb7-cb64-70d4e56c5f43"
      },
      "source": [
        "bins = np.linspace(min(df[\"horsepower\"]), max(df[\"horsepower\"]), 4)\n",
        "bins\n",
        "\n",
        "#We set group names"
      ],
      "execution_count": 7,
      "outputs": [
        {
          "output_type": "error",
          "ename": "NameError",
          "evalue": "ignored",
          "traceback": [
            "\u001b[0;31m---------------------------------------------------------------------------\u001b[0m",
            "\u001b[0;31mNameError\u001b[0m                                 Traceback (most recent call last)",
            "\u001b[0;32m<ipython-input-7-ea37345e7530>\u001b[0m in \u001b[0;36m<module>\u001b[0;34m()\u001b[0m\n\u001b[0;32m----> 1\u001b[0;31m \u001b[0mbins\u001b[0m \u001b[0;34m=\u001b[0m \u001b[0mnp\u001b[0m\u001b[0;34m.\u001b[0m\u001b[0mlinspace\u001b[0m\u001b[0;34m(\u001b[0m\u001b[0mmin\u001b[0m\u001b[0;34m(\u001b[0m\u001b[0mdf\u001b[0m\u001b[0;34m[\u001b[0m\u001b[0;34m\"horsepower\"\u001b[0m\u001b[0;34m]\u001b[0m\u001b[0;34m)\u001b[0m\u001b[0;34m,\u001b[0m \u001b[0mmax\u001b[0m\u001b[0;34m(\u001b[0m\u001b[0mdf\u001b[0m\u001b[0;34m[\u001b[0m\u001b[0;34m\"horsepower\"\u001b[0m\u001b[0;34m]\u001b[0m\u001b[0;34m)\u001b[0m\u001b[0;34m,\u001b[0m \u001b[0;36m4\u001b[0m\u001b[0;34m)\u001b[0m\u001b[0;34m\u001b[0m\u001b[0;34m\u001b[0m\u001b[0m\n\u001b[0m\u001b[1;32m      2\u001b[0m \u001b[0mbins\u001b[0m\u001b[0;34m\u001b[0m\u001b[0;34m\u001b[0m\u001b[0m\n\u001b[1;32m      3\u001b[0m \u001b[0;34m\u001b[0m\u001b[0m\n\u001b[1;32m      4\u001b[0m \u001b[0;31m#We set group names\u001b[0m\u001b[0;34m\u001b[0m\u001b[0;34m\u001b[0m\u001b[0;34m\u001b[0m\u001b[0m\n",
            "\u001b[0;31mNameError\u001b[0m: name 'np' is not defined"
          ]
        }
      ]
    },
    {
      "cell_type": "code",
      "metadata": {
        "id": "vJhMIj_v0Ckn",
        "colab_type": "code",
        "colab": {}
      },
      "source": [
        "group_names = ['Low', 'Medium', 'High']\n",
        "\n",
        "#We apply the function \"cut\" the determine what each value of \"df['horsepower']\" belongs to."
      ],
      "execution_count": 0,
      "outputs": []
    },
    {
      "cell_type": "code",
      "metadata": {
        "id": "Kda07VEO0GnO",
        "colab_type": "code",
        "colab": {}
      },
      "source": [
        "df['horsepower-binned'] = pd.cut(df['horsepower'], bins, labels=group_names, include_lowest=True )\n",
        "df[['horsepower','horsepower-binned']].head(20)"
      ],
      "execution_count": 0,
      "outputs": []
    },
    {
      "cell_type": "markdown",
      "metadata": {
        "id": "w58jPqs_0KoP",
        "colab_type": "text"
      },
      "source": [
        "Lets see the number of vehicles in each bin."
      ]
    },
    {
      "cell_type": "code",
      "metadata": {
        "id": "F4sM43tx0NnJ",
        "colab_type": "code",
        "colab": {}
      },
      "source": [
        "df[\"horsepower-binned\"].value_counts()"
      ],
      "execution_count": 0,
      "outputs": []
    },
    {
      "cell_type": "markdown",
      "metadata": {
        "id": "8Pzi4dAi0OfA",
        "colab_type": "text"
      },
      "source": [
        "Lets plot the distribution of each bin."
      ]
    },
    {
      "cell_type": "code",
      "metadata": {
        "id": "XFhlM2po0RDm",
        "colab_type": "code",
        "colab": {}
      },
      "source": [
        "%matplotlib inline\n",
        "import matplotlib as plt\n",
        "from matplotlib import pyplot\n",
        "pyplot.bar(group_names, df[\"horsepower-binned\"].value_counts())\n",
        "\n",
        "# set x/y labels and plot title\n",
        "plt.pyplot.xlabel(\"horsepower\")\n",
        "plt.pyplot.ylabel(\"count\")\n",
        "plt.pyplot.title(\"horsepower bins\")"
      ],
      "execution_count": 0,
      "outputs": []
    },
    {
      "cell_type": "markdown",
      "metadata": {
        "id": "sHCCZ3Q90R1M",
        "colab_type": "text"
      },
      "source": [
        "Check the dataframe above carefully, you will find the last column provides the bins for \"horsepower\" with 3 categories (\"Low\",\"Medium\" and \"High\").\n",
        "\n",
        "We successfully narrow the intervals from 57 to 3!\n",
        "\n",
        "Bins visualization\n",
        "Normally, a histogram is used to visualize the distribution of bins we created above."
      ]
    },
    {
      "cell_type": "code",
      "metadata": {
        "id": "r9Qb0y9i0T8M",
        "colab_type": "code",
        "colab": {}
      },
      "source": [
        "%matplotlib inline\n",
        "import matplotlib as plt\n",
        "from matplotlib import pyplot\n",
        "\n",
        "a = (0,1,2)\n",
        "\n",
        "# draw historgram of attribute \"horsepower\" with bins = 3\n",
        "plt.pyplot.hist(df[\"horsepower\"], bins = 3)\n",
        "\n",
        "# set x/y labels and plot title\n",
        "plt.pyplot.xlabel(\"horsepower\")\n",
        "plt.pyplot.ylabel(\"count\")\n",
        "plt.pyplot.title(\"horsepower bins\")"
      ],
      "execution_count": 0,
      "outputs": []
    },
    {
      "cell_type": "markdown",
      "metadata": {
        "id": "k7XaEvdk0Ujk",
        "colab_type": "text"
      },
      "source": [
        "The plot above shows the binning result for attribute \"horsepower\".\n",
        "\n",
        "# Indicator variable (or dummy variable)\n",
        "\n",
        "What is an indicator variable?\n",
        "An indicator variable (or dummy variable) is a numerical variable used to label categories. They are called 'dummies' because the numbers themselves don't have inherent meaning.\n",
        "\n",
        "Why we use indicator variables?\n",
        "\n",
        "So we can use categorical variables for regression analysis in the later modules.\n",
        "\n",
        "Example\n",
        "We see the column \"fuel-type\" has two unique values, \"gas\" or \"diesel\". Regression doesn't understand words, only numbers. To use this attribute in regression analysis, we convert \"fuel-type\" into indicator variables.\n",
        "\n",
        "We will use the panda's method 'get_dummies' to assign numerical values to different categories of fuel type."
      ]
    },
    {
      "cell_type": "code",
      "metadata": {
        "id": "W8LlkP4B0ZI1",
        "colab_type": "code",
        "colab": {}
      },
      "source": [
        "df.columns"
      ],
      "execution_count": 0,
      "outputs": []
    },
    {
      "cell_type": "markdown",
      "metadata": {
        "id": "YbeQuO9D0bYr",
        "colab_type": "text"
      },
      "source": [
        "get indicator variables and assign it to data frame \"dummy_variable_1\""
      ]
    },
    {
      "cell_type": "code",
      "metadata": {
        "id": "rjesJjf10dWh",
        "colab_type": "code",
        "colab": {}
      },
      "source": [
        "dummy_variable_1 = pd.get_dummies(df[\"fuel-type\"])\n",
        "dummy_variable_1.head()"
      ],
      "execution_count": 0,
      "outputs": []
    },
    {
      "cell_type": "markdown",
      "metadata": {
        "id": "ORW-r3YC0f4P",
        "colab_type": "text"
      },
      "source": [
        "change column names for clarity"
      ]
    },
    {
      "cell_type": "code",
      "metadata": {
        "id": "IigXBCHS0gcq",
        "colab_type": "code",
        "colab": {}
      },
      "source": [
        "dummy_variable_1.rename(columns={'fuel-type-diesel':'gas', 'fuel-type-diesel':'diesel'}, inplace=True)\n",
        "dummy_variable_1.head()"
      ],
      "execution_count": 0,
      "outputs": []
    },
    {
      "cell_type": "markdown",
      "metadata": {
        "id": "MA7vfLs10jIE",
        "colab_type": "text"
      },
      "source": [
        "We now have the value 0 to represent \"gas\" and 1 to represent \"diesel\" in the column \"fuel-type\". We will now insert this column back into our original dataset."
      ]
    },
    {
      "cell_type": "code",
      "metadata": {
        "id": "1DYPG_CF0k5r",
        "colab_type": "code",
        "colab": {
          "base_uri": "https://localhost:8080/",
          "height": 235
        },
        "outputId": "c77c3aa7-0bcd-45a2-c38e-499c8cdd23a3"
      },
      "source": [
        "# merge data frame \"df\" and \"dummy_variable_1\" \n",
        "df = pd.concat([df, dummy_variable_1], axis=1)\n",
        "\n",
        "# drop original column \"fuel-type\" from \"df\"\n",
        "df.drop(\"fuel-type\", axis = 1, inplace=True)"
      ],
      "execution_count": 9,
      "outputs": [
        {
          "output_type": "error",
          "ename": "NameError",
          "evalue": "ignored",
          "traceback": [
            "\u001b[0;31m---------------------------------------------------------------------------\u001b[0m",
            "\u001b[0;31mNameError\u001b[0m                                 Traceback (most recent call last)",
            "\u001b[0;32m<ipython-input-9-852f4540fb1d>\u001b[0m in \u001b[0;36m<module>\u001b[0;34m()\u001b[0m\n\u001b[0;32m----> 1\u001b[0;31m \u001b[0mdf\u001b[0m \u001b[0;34m=\u001b[0m \u001b[0mpd\u001b[0m\u001b[0;34m.\u001b[0m\u001b[0mconcat\u001b[0m\u001b[0;34m(\u001b[0m\u001b[0;34m[\u001b[0m\u001b[0mdf\u001b[0m\u001b[0;34m,\u001b[0m \u001b[0mdummy_variable_1\u001b[0m\u001b[0;34m]\u001b[0m\u001b[0;34m,\u001b[0m \u001b[0maxis\u001b[0m\u001b[0;34m=\u001b[0m\u001b[0;36m1\u001b[0m\u001b[0;34m)\u001b[0m\u001b[0;34m\u001b[0m\u001b[0;34m\u001b[0m\u001b[0m\n\u001b[0m\u001b[1;32m      2\u001b[0m \u001b[0;34m\u001b[0m\u001b[0m\n\u001b[1;32m      3\u001b[0m \u001b[0;31m# drop original column \"fuel-type\" from \"df\"\u001b[0m\u001b[0;34m\u001b[0m\u001b[0;34m\u001b[0m\u001b[0;34m\u001b[0m\u001b[0m\n\u001b[1;32m      4\u001b[0m \u001b[0mdf\u001b[0m\u001b[0;34m.\u001b[0m\u001b[0mdrop\u001b[0m\u001b[0;34m(\u001b[0m\u001b[0;34m\"fuel-type\"\u001b[0m\u001b[0;34m,\u001b[0m \u001b[0maxis\u001b[0m \u001b[0;34m=\u001b[0m \u001b[0;36m1\u001b[0m\u001b[0;34m,\u001b[0m \u001b[0minplace\u001b[0m\u001b[0;34m=\u001b[0m\u001b[0;32mTrue\u001b[0m\u001b[0;34m)\u001b[0m\u001b[0;34m\u001b[0m\u001b[0;34m\u001b[0m\u001b[0m\n",
            "\u001b[0;31mNameError\u001b[0m: name 'pd' is not defined"
          ]
        }
      ]
    },
    {
      "cell_type": "code",
      "metadata": {
        "id": "oNRAYU4q0m1X",
        "colab_type": "code",
        "colab": {}
      },
      "source": [
        "df.head()"
      ],
      "execution_count": 0,
      "outputs": []
    },
    {
      "cell_type": "markdown",
      "metadata": {
        "id": "2k3M6Kor0np8",
        "colab_type": "text"
      },
      "source": [
        "The last two columns are now the indicator variable representation of the fuel-type variable. It's all 0s and 1s now.\n",
        "\n",
        "### Question #4: \n",
        "\n",
        "As above, create indicator variable to the column of \"aspiration\": \"std\" to 0, while \"turbo\" to 1."
      ]
    },
    {
      "cell_type": "code",
      "metadata": {
        "id": "qzl1lz300q9D",
        "colab_type": "code",
        "colab": {}
      },
      "source": [
        "# Write your code below and press Shift+Enter to execute \n",
        "dummy_variable_2 = pd.get_dummies(df['aspiration'])\n",
        "dummy_variable_2.rename(columns={'std':'aspiration-std','turbo':'aspiration-turbo'}, inplace = 'True')\n",
        "dummy_variable_2.head()\n",
        "\n"
      ],
      "execution_count": 0,
      "outputs": []
    },
    {
      "cell_type": "markdown",
      "metadata": {
        "id": "dZbWzEdO0tZT",
        "colab_type": "text"
      },
      "source": [
        "save the new csv"
      ]
    },
    {
      "cell_type": "code",
      "metadata": {
        "id": "dJV75SRi0uZy",
        "colab_type": "code",
        "colab": {}
      },
      "source": [
        "df.to_csv('clean_df.csv')"
      ],
      "execution_count": 0,
      "outputs": []
    }
  ]
}